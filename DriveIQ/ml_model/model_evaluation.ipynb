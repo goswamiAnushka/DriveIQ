# ml_model/data_preprocessing.py

import pandas as pd
import numpy as np

def load_data(file_path):
    """Load the driving data from a CSV file."""
    return pd.read_csv(file_path)

def preprocess_data(df):
    """Preprocess the data: clean, handle missing values, and create features."""
    # Calculate the jerk (rate of change of acceleration)
    df['Jerk'] = df['Acceleration(m/s^2)'].diff() / df['Time_Step'].diff()

    # Calculate the total usage per trip (time span of the trip)
    df['Usage_Per_Day'] = df.groupby('TripId')['Time_Step'].transform('max')
    
    # Handle missing values (e.g., fill NaNs with 0)
    df.fillna(0, inplace=True)
    
    return df

def save_preprocessed_data(df, output_path):
    """Save the preprocessed data to a CSV file."""
    df.to_csv(output_path, index=False)

if __name__ == "__main__":
    # Load the data from the data/ directory
    data = load_data('data/driving_data.csv')
    # Preprocess the data
    processed_data = preprocess_data(data)
    # Save the preprocessed data
    save_preprocessed_data(processed_data, 'data/preprocessed_driving_data.csv')
