{
 "cells": [
  {
   "cell_type": "code",
   "execution_count": null,
   "metadata": {},
   "outputs": [
    {
     "ename": "",
     "evalue": "",
     "output_type": "error",
     "traceback": [
      "\u001b[1;31mThe kernel failed to start as the Python Environment 'Python 3.12.3' is no longer available. Consider selecting another kernel or refreshing the list of Python Environments."
     ]
    }
   ],
   "source": [
    "# ml_model/data_preprocessing.py\n",
    "\n",
    "import pandas as pd\n",
    "import numpy as np\n",
    "\n",
    "def preprocess_data(df):\n",
    "    \"\"\"\n",
    "    Preprocesses the driving data to calculate additional features and categorize drivers.\n",
    "    \"\"\"\n",
    "    # Calculate the jerk (rate of change of acceleration)\n",
    "    df['Jerk'] = df['Acceleration(m/s^2)'].diff() / df['Time_Step'].diff()\n",
    "\n",
    "    # Calculate the total usage per trip (time span of the trip)\n",
    "    df['Usage_Per_Day'] = df.groupby('TripId')['Time_Step'].transform('max')\n",
    "\n",
    "    # Handle missing values (e.g., fill NaNs with 0)\n",
    "    df.fillna(0, inplace=True)\n",
    "\n",
    "    # Define driving score calculation\n",
    "    def calculate_driving_score(speed, acceleration, heading_change):\n",
    "        norm_speed = speed / speed.max()\n",
    "        norm_acceleration = np.abs(acceleration) / np.abs(acceleration).max()\n",
    "        norm_heading_change = np.abs(heading_change) / np.abs(heading_change).max()\n",
    "        score = 0.4 * norm_speed + 0.3 * norm_acceleration + 0.3 * norm_heading_change\n",
    "        return score\n",
    "\n",
    "    # Define driver categorization\n",
    "    def categorize_driver(score):\n",
    "        if score < 0.3:\n",
    "            return \"Safe\"\n",
    "        elif 0.3 <= score < 0.6:\n",
    "            return \"Moderate\"\n",
    "        else:\n",
    "            return \"Aggressive\"\n",
    "\n",
    "    # Apply the functions to create the Driver_Category column\n",
    "    df['Driving_Score'] = df.apply(lambda row: calculate_driving_score(\n",
    "        row['Speed(km/h)'], row['Acceleration(m/s^2)'], row['Heading_Change(degrees)']), axis=1)\n",
    "\n",
    "    df['Driver_Category'] = df['Driving_Score'].apply(categorize_driver)\n",
    "\n",
    "    # Drop the temporary Driving_Score column\n",
    "    df.drop(columns=['Driving_Score'], inplace=True)\n",
    "\n",
    "    return df\n",
    "\n",
    "if __name__ == \"__main__\":\n",
    "    # Load data\n",
    "    data = pd.read_csv('ml_model/data/driving_data.csv')\n",
    "\n",
    "    # Preprocess data\n",
    "    preprocessed_data = preprocess_data(data)\n",
    "\n",
    "    # Save preprocessed data\n",
    "    preprocessed_data.to_csv('ml_model/data/preprocessed_driving_data_with_category.csv', index=False)\n"
   ]
  }
 ],
 "metadata": {
  "kernelspec": {
   "display_name": ".venv",
   "language": "python",
   "name": "python3"
  },
  "language_info": {
   "codemirror_mode": {
    "name": "ipython",
    "version": 3
   },
   "file_extension": ".py",
   "mimetype": "text/x-python",
   "name": "python",
   "nbconvert_exporter": "python",
   "pygments_lexer": "ipython3",
   "version": "3.12.3"
  }
 },
 "nbformat": 4,
 "nbformat_minor": 2
}
