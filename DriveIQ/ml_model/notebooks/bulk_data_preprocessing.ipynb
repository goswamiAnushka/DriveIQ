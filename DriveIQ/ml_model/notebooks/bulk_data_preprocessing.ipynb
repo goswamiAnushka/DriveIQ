{
 "cells": [
  {
   "cell_type": "code",
   "execution_count": 7,
   "metadata": {},
   "outputs": [
    {
     "name": "stdout",
     "output_type": "stream",
     "text": [
      "Aggregated data by driver saved to ../data/bulk_driver_aggregated_data.csv\n"
     ]
    }
   ],
   "source": [
    "import pandas as pd\n",
    "\n",
    "# Load the processed data file (replace with your actual file path)\n",
    "processed_data_path = '../data/processed_data.csv'\n",
    "df = pd.read_csv(processed_data_path)\n",
    "\n",
    "# Assign DriverId based on TripId (e.g., T-1 -> DriverId 1, T-2 -> DriverId 2)\n",
    "df['DriverId'] = df['TripId'].apply(lambda x: int(x.split('-')[1]))\n",
    "\n",
    "# Group by DriverId and aggregate data for each driver\n",
    "driver_aggregated_data = df.groupby('DriverId').agg({\n",
    "    'Speed(m/s)': ['mean', 'max', 'std'],\n",
    "    'Acceleration(m/s^2)': ['mean', 'max', 'std'],\n",
    "    'Heading_Change(degrees)': ['mean', 'max', 'std'],\n",
    "    'Jerk(m/s^3)': ['mean', 'max', 'std'],\n",
    "    'Braking_Intensity': ['mean', 'max', 'std'],\n",
    "    'SASV': 'mean',\n",
    "    'Speed_Violation': 'mean',\n",
    "    'Time_Step': 'count',  # Total observations for the driver\n",
    "    'Driving_Category': lambda x: x.mode()[0]  # Get the mode (most common category) for each driver\n",
    "}).reset_index()\n",
    "\n",
    "# Rename columns for clarity\n",
    "driver_aggregated_data.columns = ['DriverId', \n",
    "                                  'Speed(m/s)_mean', 'Speed(m/s)_max', 'Speed(m/s)_std',\n",
    "                                  'Acceleration(m/s^2)_mean', 'Acceleration(m/s^2)_max', 'Acceleration(m/s^2)_std',\n",
    "                                  'Heading_Change(degrees)_mean', 'Heading_Change(degrees)_max', 'Heading_Change(degrees)_std',\n",
    "                                  'Jerk(m/s^3)_mean', 'Jerk(m/s^3)_max', 'Jerk(m/s^3)_std',\n",
    "                                  'Braking_Intensity_mean', 'Braking_Intensity_max', 'Braking_Intensity_std',\n",
    "                                  'SASV_mean', 'Speed_Violation_mean', 'Total_Observations', 'Driving_Category']\n",
    "\n",
    "# Save aggregated data for future bulk processing\n",
    "aggregated_output_path = '../data/bulk_driver_aggregated_data.csv'\n",
    "driver_aggregated_data.to_csv(aggregated_output_path, index=False)\n",
    "\n",
    "print(f\"Aggregated data by driver saved to {aggregated_output_path}\")\n"
   ]
  }
 ],
 "metadata": {
  "kernelspec": {
   "display_name": ".venv",
   "language": "python",
   "name": "python3"
  },
  "language_info": {
   "codemirror_mode": {
    "name": "ipython",
    "version": 3
   },
   "file_extension": ".py",
   "mimetype": "text/x-python",
   "name": "python",
   "nbconvert_exporter": "python",
   "pygments_lexer": "ipython3",
   "version": "3.9.12"
  }
 },
 "nbformat": 4,
 "nbformat_minor": 2
}
