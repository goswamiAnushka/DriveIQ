{
 "cells": [
  {
   "cell_type": "code",
   "execution_count": 1,
   "metadata": {},
   "outputs": [
    {
     "name": "stdout",
     "output_type": "stream",
     "text": [
      "Simulated driving data saved successfully.\n"
     ]
    }
   ],
   "source": [
    "import pandas as pd\n",
    "import numpy as np\n",
    "\n",
    "# Define parameters for simulated trips\n",
    "num_trips = 100  # Number of trips\n",
    "max_time_step = 120  # Maximum time step for each trip\n",
    "max_speed = 120  # Maximum speed in km/h\n",
    "max_accel = 3  # Maximum acceleration in m/s^2\n",
    "max_heading_change = 90  # Maximum heading change in degrees\n",
    "\n",
    "# Simulate data\n",
    "simulated_data = []\n",
    "\n",
    "for trip_id in range(1, num_trips + 1):\n",
    "    for time_step in range(1, max_time_step + 1):\n",
    "        speed = np.random.uniform(0, max_speed)\n",
    "        accel = np.random.uniform(-max_accel, max_accel)\n",
    "        heading_change = np.random.uniform(0, max_heading_change)\n",
    "        lat = np.random.uniform(39.0, 40.0)  # Random latitudes in a range\n",
    "        lon = np.random.uniform(-83.0, -82.0)  # Random longitudes in a range\n",
    "        \n",
    "        simulated_data.append([f\"T-{trip_id}\", time_step, speed, accel, heading_change, lat, lon])\n",
    "\n",
    "# Create a DataFrame\n",
    "columns = ['TripId', 'Time_Step', 'Speed(km/h)', 'Acceleration(m/s^2)', 'Heading_Change(degrees)', 'Latitude', 'Longitude']\n",
    "simulated_df = pd.DataFrame(simulated_data, columns=columns)\n",
    "\n",
    "# Save to CSV\n",
    "simulated_df.to_csv('../data/simulated_driving_data.csv', index=False)\n",
    "print(\"Simulated driving data saved successfully.\")\n"
   ]
  }
 ],
 "metadata": {
  "kernelspec": {
   "display_name": ".venv",
   "language": "python",
   "name": "python3"
  },
  "language_info": {
   "codemirror_mode": {
    "name": "ipython",
    "version": 3
   },
   "file_extension": ".py",
   "mimetype": "text/x-python",
   "name": "python",
   "nbconvert_exporter": "python",
   "pygments_lexer": "ipython3",
   "version": "3.12.3"
  }
 },
 "nbformat": 4,
 "nbformat_minor": 2
}
