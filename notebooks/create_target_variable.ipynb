{
 "cells": [
  {
   "cell_type": "code",
   "execution_count": 1,
   "metadata": {},
   "outputs": [],
   "source": [
    "import pandas as pd\n",
    "import numpy as np\n",
    "\n",
    "# Load the processed data\n",
    "data = pd.read_csv('../data/trip_summary.csv')\n",
    "\n",
    "# Define categories for driving behavior\n",
    "def classify_driving_score(score):\n",
    "    if score >= 80:\n",
    "        return 'Excellent'\n",
    "    elif score >= 60:\n",
    "        return 'Good'\n",
    "    elif score >= 40:\n",
    "        return 'Average'\n",
    "    else:\n",
    "        return 'Poor'\n",
    "\n",
    "# Example of creating a dummy 'Driving_Score' based on mean speed\n",
    "# In practice, you should have real labels or a more sophisticated method\n",
    "data['Driving_Score'] = np.random.randint(0, 100, size=len(data))  # Dummy scores\n",
    "data['Driving_Category'] = data['Driving_Score'].apply(classify_driving_score)\n",
    "\n",
    "# Define features and target variable\n",
    "X = data.drop(columns=['TripId', 'Driving_Score', 'Driving_Category'])\n",
    "y = data['Driving_Category']\n",
    "\n",
    "# Convert categorical target to numerical\n",
    "from sklearn.preprocessing import LabelEncoder\n",
    "label_encoder = LabelEncoder()\n",
    "y = label_encoder.fit_transform(y)\n",
    "\n",
    "# Save processed features and labels\n",
    "X.to_csv('../data/processed_features.csv', index=False)\n",
    "pd.DataFrame({'Driving_Category': label_encoder.classes_}).to_csv('../data/label_mapping.csv', index=False)\n"
   ]
  }
 ],
 "metadata": {
  "kernelspec": {
   "display_name": "venv",
   "language": "python",
   "name": "python3"
  },
  "language_info": {
   "codemirror_mode": {
    "name": "ipython",
    "version": 3
   },
   "file_extension": ".py",
   "mimetype": "text/x-python",
   "name": "python",
   "nbconvert_exporter": "python",
   "pygments_lexer": "ipython3",
   "version": "3.9.12"
  }
 },
 "nbformat": 4,
 "nbformat_minor": 2
}
