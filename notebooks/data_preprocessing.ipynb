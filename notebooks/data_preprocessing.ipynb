{
 "cells": [
  {
   "cell_type": "code",
   "execution_count": 1,
   "metadata": {},
   "outputs": [
    {
     "name": "stdout",
     "output_type": "stream",
     "text": [
      "Data Preprocessing Completed.\n"
     ]
    }
   ],
   "source": [
    "# Importing necessary libraries\n",
    "import pandas as pd\n",
    "import numpy as np\n",
    "from sklearn.model_selection import train_test_split\n",
    "from sklearn.preprocessing import StandardScaler\n",
    "\n",
    "# Load the dataset\n",
    "data = pd.read_csv('../data/driving_data.csv')\n",
    "\n",
    "# Display the first few rows of the dataset\n",
    "data.head()\n",
    "\n",
    "# Feature Engineering\n",
    "# Calculate the average speed, maximum acceleration, and total heading change for each trip\n",
    "trip_features = data.groupby('TripId').agg(\n",
    "    avg_speed=('Speed(km/h)', 'mean'),\n",
    "    max_acceleration=('Acceleration(m/s^2)', 'max'),\n",
    "    total_heading_change=('Heading_Change(degrees)', 'sum')\n",
    ").reset_index()\n",
    "\n",
    "# Label Encoding - Categorizing drivers into 4 classes based on behavior\n",
    "def categorize_behavior(row):\n",
    "    if row['avg_speed'] > 60 and row['max_acceleration'] > 0.5 and row['total_heading_change'] > 30:\n",
    "        return 'Aggressive'\n",
    "    elif row['avg_speed'] > 50 and row['max_acceleration'] > 0.3 and row['total_heading_change'] > 20:\n",
    "        return 'Average'\n",
    "    elif row['avg_speed'] < 50 and row['max_acceleration'] < 0.3 and row['total_heading_change'] < 10:\n",
    "        return 'Cautious'\n",
    "    else:\n",
    "        return 'Moderate'\n",
    "\n",
    "trip_features['driving_behavior'] = trip_features.apply(categorize_behavior, axis=1)\n",
    "\n",
    "# Mapping behavior to numeric labels\n",
    "behavior_mapping = {'Aggressive': 3, 'Average': 2, 'Cautious': 1, 'Moderate': 0}\n",
    "trip_features['behavior_label'] = trip_features['driving_behavior'].map(behavior_mapping)\n",
    "\n",
    "# Splitting features and labels\n",
    "X = trip_features[['avg_speed', 'max_acceleration', 'total_heading_change']]\n",
    "y = trip_features['behavior_label']\n",
    "\n",
    "# Standardize features\n",
    "scaler = StandardScaler()\n",
    "X_scaled = scaler.fit_transform(X)\n",
    "\n",
    "# Splitting data into training and testing sets\n",
    "X_train, X_test, y_train, y_test = train_test_split(X_scaled, y, test_size=0.2, random_state=42)\n",
    "\n",
    "# Saving preprocessed data for model training\n",
    "X_train_df = pd.DataFrame(X_train, columns=['avg_speed', 'max_acceleration', 'total_heading_change'])\n",
    "X_test_df = pd.DataFrame(X_test, columns=['avg_speed', 'max_acceleration', 'total_heading_change'])\n",
    "\n",
    "X_train_df.to_csv('../data/X_train.csv', index=False)\n",
    "X_test_df.to_csv('../data/X_test.csv', index=False)\n",
    "y_train.to_csv('../data/y_train.csv', index=False)\n",
    "y_test.to_csv('../data/y_test.csv', index=False)\n",
    "\n",
    "print(\"Data Preprocessing Completed.\")\n"
   ]
  }
 ],
 "metadata": {
  "kernelspec": {
   "display_name": "venv",
   "language": "python",
   "name": "python3"
  },
  "language_info": {
   "codemirror_mode": {
    "name": "ipython",
    "version": 3
   },
   "file_extension": ".py",
   "mimetype": "text/x-python",
   "name": "python",
   "nbconvert_exporter": "python",
   "pygments_lexer": "ipython3",
   "version": "3.9.12"
  }
 },
 "nbformat": 4,
 "nbformat_minor": 2
}
