{
 "cells": [
  {
   "cell_type": "code",
   "execution_count": null,
   "metadata": {},
   "outputs": [],
   "source": [
    "import pandas as pd\n",
    "import numpy as np\n",
    "\n",
    "# Load the data\n",
    "data = pd.read_csv('../data/driving_data.csv')\n",
    "\n",
    "# Feature Engineering\n",
    "data['Speed_diff'] = data['Speed(km/h)'].diff().fillna(0)\n",
    "data['Acceleration_diff'] = data['Acceleration(m/s^2)'].diff().fillna(0)\n",
    "data['Heading_diff'] = data['Heading_Change(degrees)'].diff().fillna(0)\n",
    "\n",
    "# Aggregation to create trip-level summaries\n",
    "trip_summary = data.groupby('TripId').agg({\n",
    "    'Speed(km/h)': ['mean', 'max', 'min'],\n",
    "    'Acceleration(m/s^2)': ['mean', 'max', 'min'],\n",
    "    'Heading_Change(degrees)': ['mean', 'max', 'min'],\n",
    "    'Speed_diff': 'mean',\n",
    "    'Acceleration_diff': 'mean',\n",
    "    'Heading_diff': 'mean'\n",
    "})\n",
    "\n",
    "# Flatten multi-level columns\n",
    "trip_summary.columns = ['_'.join(col).strip() for col in trip_summary.columns.values]\n",
    "trip_summary.reset_index(inplace=True)\n",
    "\n",
    "# Save the processed data\n",
    "trip_summary.to_csv('../data/trip_summary.csv', index=False)\n",
    "print(\"Data preprocessing complete. Processed data saved.\")\n"
   ]
  }
 ],
 "metadata": {
  "kernelspec": {
   "display_name": "venv",
   "language": "python",
   "name": "python3"
  },
  "language_info": {
   "name": "python",
   "version": "3.9.12"
  }
 },
 "nbformat": 4,
 "nbformat_minor": 2
}
