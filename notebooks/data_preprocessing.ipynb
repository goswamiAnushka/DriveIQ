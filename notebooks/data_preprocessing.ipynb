{
 "cells": [
  {
   "cell_type": "code",
   "execution_count": 5,
   "metadata": {},
   "outputs": [],
   "source": [
    "import pandas as pd\n",
    "import numpy as np\n",
    "from sklearn.preprocessing import StandardScaler\n",
    "\n",
    "def preprocess_data(data_path):\n",
    "    # Load data\n",
    "    data = pd.read_csv(data_path)\n",
    "    \n",
    "    # Handle missing values\n",
    "    data = data.dropna()\n",
    "    \n",
    "    # Calculate Jerk (rate of change of acceleration)\n",
    "    data['Jerk'] = data['Acceleration(m/s^2)'].diff() / data['Time_Step'].diff()\n",
    "    data['Jerk'] = data['Jerk'].fillna(0)\n",
    "    \n",
    "    # Feature Scaling\n",
    "    scaler = StandardScaler()\n",
    "    scaled_features = scaler.fit_transform(data[['Speed(km/h)', 'Acceleration(m/s^2)', 'Heading_Change(degrees)', 'Jerk']])\n",
    "    data[['Speed_Scaled', 'Acceleration_Scaled', 'Heading_Change_Scaled', 'Jerk_Scaled']] = scaled_features\n",
    "    \n",
    "    # Calculate Driving Score\n",
    "    data['Driving_Score'] = (\n",
    "        0.4 * data['Speed_Scaled'] + \n",
    "        0.3 * data['Acceleration_Scaled'] + \n",
    "        0.2 * data['Heading_Change_Scaled'] + \n",
    "        0.1 * data['Jerk_Scaled']\n",
    "    )\n",
    "    \n",
    "    # Classify based on driving score\n",
    "    data['Driver_Category'] = pd.cut(\n",
    "        data['Driving_Score'],\n",
    "        bins=[-np.inf, -0.5, 0.5, 1.5, np.inf],\n",
    "        labels=['Safe', 'Moderate', 'Aggressive', 'Very Aggressive']\n",
    "    )\n",
    "    \n",
    "    # Save preprocessed data\n",
    "    data.to_csv('../data/preprocessed_data.csv', index=False)\n",
    "    \n",
    "    return data\n",
    "\n",
    "if __name__ == \"__main__\":\n",
    "    data_path = '../data/driving_data.csv'\n",
    "    preprocess_data(data_path)\n"
   ]
  }
 ],
 "metadata": {
  "kernelspec": {
   "display_name": "venv",
   "language": "python",
   "name": "python3"
  },
  "language_info": {
   "codemirror_mode": {
    "name": "ipython",
    "version": 3
   },
   "file_extension": ".py",
   "mimetype": "text/x-python",
   "name": "python",
   "nbconvert_exporter": "python",
   "pygments_lexer": "ipython3",
   "version": "3.9.12"
  }
 },
 "nbformat": 4,
 "nbformat_minor": 2
}
