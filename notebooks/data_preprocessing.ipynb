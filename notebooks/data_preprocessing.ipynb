{
 "cells": [
  {
   "cell_type": "code",
   "execution_count": 3,
   "metadata": {},
   "outputs": [
    {
     "name": "stdout",
     "output_type": "stream",
     "text": [
      "  TripId  Time_Step  Speed(km/h)  Acceleration(m/s^2)  \\\n",
      "0    T-1          1           65                -0.28   \n",
      "1    T-1          2           64                -0.28   \n",
      "2    T-1          3           64                 0.00   \n",
      "3    T-1          4           65                 0.28   \n",
      "4    T-1          5           66                 0.28   \n",
      "\n",
      "   Heading_Change(degrees)   Latitude  Longitude  \n",
      "0                        0  39.981798 -83.033740  \n",
      "1                        6  39.981688 -83.033573  \n",
      "2                        0  39.981581 -83.033420  \n",
      "3                        6  39.981470 -83.033276  \n",
      "4                        0  39.981345 -83.033133  \n"
     ]
    }
   ],
   "source": [
    "import pandas as pd\n",
    "import numpy as np\n",
    "from sklearn.model_selection import train_test_split\n",
    "from sklearn.preprocessing import StandardScaler\n",
    "\n",
    "# Load the dataset\n",
    "data = pd.read_csv('../data/driving_data.csv')\n",
    "\n",
    "# Display the first few rows of the dataframe\n",
    "print(data.head())\n",
    "\n",
    "# Handling missing values\n",
    "data.dropna(inplace=True)\n",
    "\n",
    "# Feature engineering: Create additional features if needed\n",
    "data['Speed_Change'] = data['Speed(km/h)'].diff().fillna(0)\n",
    "data['Acceleration_Change'] = data['Acceleration(m/s^2)'].diff().fillna(0)\n",
    "\n",
    "# Label encoding (example: creating a simple category based on speed)\n",
    "def categorize_driving(row):\n",
    "    if row['Speed(km/h)'] > 70:\n",
    "        return 'Fast'\n",
    "    elif row['Speed(km/h)'] > 50:\n",
    "        return 'Moderate'\n",
    "    else:\n",
    "        return 'Slow'\n",
    "\n",
    "data['Driving_Category'] = data.apply(categorize_driving, axis=1)\n",
    "\n",
    "# Convert categorical columns to numerical values if necessary\n",
    "data['Driving_Category'] = data['Driving_Category'].map({'Slow': 0, 'Moderate': 1, 'Fast': 2})\n",
    "\n",
    "# Splitting data into features and target variable\n",
    "X = data[['Speed(km/h)', 'Acceleration(m/s^2)', 'Heading_Change(degrees)', 'Speed_Change', 'Acceleration_Change']]\n",
    "y = data['Driving_Category']\n",
    "\n",
    "# Standardizing the features\n",
    "scaler = StandardScaler()\n",
    "X_scaled = scaler.fit_transform(X)\n",
    "\n",
    "# Split the data into training and test sets\n",
    "X_train, X_test, y_train, y_test = train_test_split(X_scaled, y, test_size=0.2, random_state=42)\n"
   ]
  }
 ],
 "metadata": {
  "kernelspec": {
   "display_name": "venv",
   "language": "python",
   "name": "python3"
  },
  "language_info": {
   "codemirror_mode": {
    "name": "ipython",
    "version": 3
   },
   "file_extension": ".py",
   "mimetype": "text/x-python",
   "name": "python",
   "nbconvert_exporter": "python",
   "pygments_lexer": "ipython3",
   "version": "3.9.12"
  }
 },
 "nbformat": 4,
 "nbformat_minor": 2
}
