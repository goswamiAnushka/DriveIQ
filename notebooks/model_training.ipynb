{
 "cells": [
  {
   "cell_type": "code",
   "execution_count": 11,
   "metadata": {},
   "outputs": [
    {
     "name": "stdout",
     "output_type": "stream",
     "text": [
      "Accuracy: 0.9941727894603496\n",
      "Classification Report:\n",
      "                  precision    recall  f1-score   support\n",
      "\n",
      "     Aggressive       0.99      0.99      0.99      1567\n",
      "       Moderate       0.99      1.00      1.00      4388\n",
      "           Safe       0.99      1.00      0.99      1909\n",
      "Very Aggressive       1.00      0.87      0.93        30\n",
      "\n",
      "       accuracy                           0.99      7894\n",
      "      macro avg       1.00      0.96      0.98      7894\n",
      "   weighted avg       0.99      0.99      0.99      7894\n",
      "\n"
     ]
    }
   ],
   "source": [
    "import pandas as pd\n",
    "from sklearn.model_selection import train_test_split, learning_curve\n",
    "from sklearn.ensemble import RandomForestClassifier\n",
    "from sklearn.metrics import classification_report, accuracy_score\n",
    "import joblib\n",
    "import matplotlib.pyplot as plt\n",
    "import numpy as np\n",
    "\n",
    "def train_model(data_path, model_save_path):\n",
    "    # Load preprocessed data\n",
    "    data = pd.read_csv(data_path)\n",
    "    \n",
    "    # Define features and target variable\n",
    "    X = data[['Speed_Scaled', 'Acceleration_Scaled', 'Heading_Change_Scaled', 'Jerk_Scaled']]\n",
    "    y = data['Driver_Category']\n",
    "    \n",
    "    # Train-Test Split\n",
    "    X_train, X_test, y_train, y_test = train_test_split(X, y, test_size=0.2, random_state=42)\n",
    "    \n",
    "    # Train Random Forest Classifier\n",
    "    clf = RandomForestClassifier(n_estimators=100, random_state=42)\n",
    "    clf.fit(X_train, y_train)\n",
    "    \n",
    "    # Predictions and Evaluation\n",
    "    y_pred = clf.predict(X_test)\n",
    "    print(\"Accuracy:\", accuracy_score(y_test, y_pred))\n",
    "    print(\"Classification Report:\\n\", classification_report(y_test, y_pred))\n",
    "    \n",
    "    # Save the model\n",
    "    joblib.dump(clf, model_save_path)\n",
    "    \n",
    "    return clf\n",
    "\n",
    "def plot_learning_curve(clf, X_train, y_train):\n",
    "    train_sizes, train_scores, test_scores = learning_curve(\n",
    "        clf, X_train, y_train, cv=5, n_jobs=-1,\n",
    "        train_sizes=np.linspace(0.1, 1.0, 10)\n",
    "    )\n",
    "    \n",
    "    # Plot learning curve\n",
    "    plt.figure()\n",
    "    plt.title(\"Learning Curve\")\n",
    "    plt.xlabel(\"Training examples\")\n",
    "    plt.ylabel(\"Score\")\n",
    "    plt.ylim(0, 1.1)\n",
    "    plt.grid()\n",
    "    \n",
    "    # Training score\n",
    "    train_scores_mean = np.mean(train_scores, axis=1)\n",
    "    train_scores_std = np.std(train_scores, axis=1)\n",
    "    plt.plot(train_sizes, train_scores_mean, 'o-', color='r', label=\"Training score\")\n",
    "    plt.fill_between(train_sizes, train_scores_mean - train_scores_std, train_scores_mean + train_scores_std, alpha=0.2, color='r')\n",
    "    \n",
    "    # Cross-validation score\n",
    "    test_scores_mean = np.mean(test_scores, axis=1)\n",
    "    test_scores_std = np.std(test_scores, axis=1)\n",
    "    plt.plot(train_sizes, test_scores_mean, 'o-', color='g', label=\"Cross-validation score\")\n",
    "    plt.fill_between(train_sizes, test_scores_mean - test_scores_std, test_scores_mean + test_scores_std, alpha=0.2, color='g')\n",
    "    \n",
    "    plt.legend(loc=\"best\")\n",
    "    plt.show()\n",
    "\n",
    "if __name__ == \"__main__\":\n",
    "    data_path = '../data/preprocessed_data.csv'\n",
    "    model_save_path = '../models/driving_behavior_model.pkl'\n",
    "    clf = train_model(data_path, model_save_path)\n"
   ]
  }
 ],
 "metadata": {
  "kernelspec": {
   "display_name": "venv",
   "language": "python",
   "name": "python3"
  },
  "language_info": {
   "codemirror_mode": {
    "name": "ipython",
    "version": 3
   },
   "file_extension": ".py",
   "mimetype": "text/x-python",
   "name": "python",
   "nbconvert_exporter": "python",
   "pygments_lexer": "ipython3",
   "version": "3.9.12"
  }
 },
 "nbformat": 4,
 "nbformat_minor": 2
}
